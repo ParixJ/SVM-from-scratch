{
 "cells": [
  {
   "cell_type": "code",
   "execution_count": 15,
   "id": "f2a64d04",
   "metadata": {},
   "outputs": [],
   "source": [
    "import numpy as np\n",
    "from sklearn.datasets import load_iris\n",
    "import pandas as pd\n",
    "import matplotlib.pyplot as plt\n",
    "np.random.seed(42)"
   ]
  },
  {
   "cell_type": "code",
   "execution_count": 16,
   "id": "bb6254f8",
   "metadata": {},
   "outputs": [],
   "source": [
    "dataset = load_iris()\n",
    "X = dataset.data[:100]\n",
    "y = dataset.target[:100]\n",
    "df = pd.DataFrame(X,columns=dataset.feature_names)\n",
    "df['label'] = dataset.target[:100]\n",
    "df['name'] = np.where(df['label']==0,'setosa','verginica')\n",
    "y = np.where(y==0,-1,1)\n",
    "setosa = np.array(df[:50])\n",
    "verginica = np.array(df[50:100])"
   ]
  },
  {
   "cell_type": "code",
   "execution_count": 17,
   "id": "08d29de9",
   "metadata": {},
   "outputs": [
    {
     "data": {
      "image/png": "[encoded data removed]",
      "text/plain": [
       "<Figure size 640x480 with 1 Axes>"
      ]
     },
     "metadata": {},
     "output_type": "display_data"
    }
   ],
   "source": [
    "plt.xlabel(dataset.feature_names[2])\n",
    "plt.ylabel(dataset.feature_names[3])\n",
    "plt.title('Iris')\n",
    "plt.scatter(setosa[:,2],setosa[:,3][:50],c='blue',marker='+',label='setosa')\n",
    "plt.scatter(verginica[:,2],verginica[:,3][:50],c='green',marker='*',label='virginica')\n",
    "plt.figlegend()\n",
    "plt.show()"
   ]
  },
  {
   "cell_type": "code",
   "execution_count": 18,
   "id": "fc4a6720",
   "metadata": {},
   "outputs": [],
   "source": [
    "def hinge_loss(ytrue,ypred):\n",
    "    l = ytrue * ypred\n",
    "    return np.maximum(0,1-l)"
   ]
  },
  {
   "cell_type": "code",
   "execution_count": 19,
   "id": "3dfc8fc6",
   "metadata": {},
   "outputs": [
    {
     "data": {
      "text/plain": [
       "array([31.7, 30.1, 29.5, 29.8, 31.6, 36.4, 30.9, 31.6, 28.4, 29.8, 33.4,\n",
       "       31.4, 28.9, 26.2, 34. , 37.5, 34.8, 32.6, 36.2, 33.6, 33.6, 34.3,\n",
       "       28.8, 35.2, 32.6, 31.2, 33.8, 32.4, 31.8, 30.7, 30.8, 34.6, 32.7,\n",
       "       34.3, 30.7, 30. , 32.5, 30.4, 28.2, 31.9, 31.9, 28. , 28.6, 35.8,\n",
       "       36.1, 30.7, 33.1, 29.6, 33.1, 31. ,  0. ,  0. ,  0. ,  0. ,  0. ,\n",
       "        0. ,  0. ,  0. ,  0. ,  0. ,  0. ,  0. ,  0. ,  0. ,  0. ,  0. ,\n",
       "        0. ,  0. ,  0. ,  0. ,  0. ,  0. ,  0. ,  0. ,  0. ,  0. ,  0. ,\n",
       "        0. ,  0. ,  0. ,  0. ,  0. ,  0. ,  0. ,  0. ,  0. ,  0. ,  0. ,\n",
       "        0. ,  0. ,  0. ,  0. ,  0. ,  0. ,  0. ,  0. ,  0. ,  0. ,  0. ,\n",
       "        0. ])"
      ]
     },
     "execution_count": 19,
     "metadata": {},
     "output_type": "execute_result"
    }
   ],
   "source": [
    "w = np.array([3,2,4,9])\n",
    "b = 1\n",
    "\n",
    "# wx + b \n",
    "pred = np.dot(X,w.T) + b\n",
    "\n",
    "# max(0, 1 - y * f(x))\n",
    "loss = hinge_loss(y,pred.flatten())\n",
    "loss"
   ]
  },
  {
   "cell_type": "code",
   "execution_count": 20,
   "id": "6278c3eb",
   "metadata": {},
   "outputs": [
    {
     "data": {
      "text/plain": [
       "110"
      ]
     },
     "execution_count": 20,
     "metadata": {},
     "output_type": "execute_result"
    }
   ],
   "source": [
    "# L2 square norm (Euclidian Norm)\n",
    "l2 = np.sum(np.square(w))\n",
    "l2"
   ]
  },
  {
   "cell_type": "code",
   "execution_count": 21,
   "id": "fbd82931",
   "metadata": {},
   "outputs": [
    {
     "data": {
      "text/plain": [
       "125.968"
      ]
     },
     "execution_count": 21,
     "metadata": {},
     "output_type": "execute_result"
    }
   ],
   "source": [
    "total_loss = (1/100) * np.sum(loss) + l2\n",
    "total_loss"
   ]
  },
  {
   "cell_type": "code",
   "execution_count": 22,
   "id": "d85afe34",
   "metadata": {},
   "outputs": [],
   "source": [
    "# returns gradient of the loss w.r.t weights: \n",
    "def gradient(x,ytrue,ypred,lr,ld):\n",
    "    if ytrue * ypred >= 1:\n",
    "        return (w - lr*ld*w),(b+lr*ytrue)\n",
    "    else:\n",
    "        t1 = np.subtract(ld*w,ytrue * x)\n",
    "        t2 = lr * t1\n",
    "\n",
    "        return w - t2, b + lr*ytrue"
   ]
  },
  {
   "cell_type": "code",
   "execution_count": 23,
   "id": "358206ce",
   "metadata": {},
   "outputs": [
    {
     "name": "stdout",
     "output_type": "stream",
     "text": [
      "Epoch: 0 Loss: 78.80100831933358\n",
      "Epoch: 100 Loss: 1.0049343376209443\n",
      "Epoch: 200 Loss: 1.0089734883138222\n",
      "Epoch: 300 Loss: 1.0075474018048092\n",
      "Epoch: 400 Loss: 1.0054205248925512\n",
      "Epoch: 500 Loss: 1.009719949332582\n",
      "Epoch: 600 Loss: 1.008660841726178\n",
      "Epoch: 700 Loss: 1.0070810843947076\n",
      "Epoch: 800 Loss: 1.0047251424866284\n",
      "Epoch: 900 Loss: 1.008681197426373\n"
     ]
    }
   ],
   "source": [
    "epochs = 1000\n",
    "\n",
    "# learning rate\n",
    "lr = 0.01\n",
    "\n",
    "# lambda\n",
    "ld = 0.1\n",
    "\n",
    "for i in range(epochs):\n",
    "    for x_i,y_i in zip(X,y):\n",
    "        pred = np.dot(x_i,w.T) + b\n",
    "        gw, gb = gradient(x_i,y_i,pred,lr,ld)\n",
    "        w = gw\n",
    "        b = gb\n",
    "    if i % 100 == 0: \n",
    "        pred1 = np.dot(X,w.T) + b\n",
    "        l2 = np.sum(np.square(w))\n",
    "        loss = hinge_loss(y,pred1.flatten())\n",
    "        total_loss = (1/100) * np.sum(loss) + l2\n",
    "        print(f'Epoch: {i} Loss: {total_loss}')"
   ]
  }
 ],
 "metadata": {
  "kernelspec": {
   "display_name": "base",
   "language": "python",
   "name": "python3"
  },
  "language_info": {
   "codemirror_mode": {
    "name": "ipython",
    "version": 3
   },
   "file_extension": ".py",
   "mimetype": "text/x-python",
   "name": "python",
   "nbconvert_exporter": "python",
   "pygments_lexer": "ipython3",
   "version": "3.12.7"
  }
 },
 "nbformat": 4,
 "nbformat_minor": 5
}
